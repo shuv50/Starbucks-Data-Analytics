{
  "cells": [
    {
      "cell_type": "markdown",
      "source": [
        "# Import libraries"
      ],
      "metadata": {
        "nteract": {
          "transient": {
            "deleting": false
          }
        }
      }
    },
    {
      "cell_type": "code",
      "source": [
        "# Import libraries\n",
        "from azure.ai.ml import MLClient                          # Handle to the workspace\n",
        "from azure.identity import DefaultAzureCredential         # Authentication package\n",
        "from azure.identity import InteractiveBrowserCredential   # Authentication package\n",
        "from azure.ai.ml.entities import AmlCompute               # Compute\n",
        "from azure.ai.ml.entities import Environment              # Environment\n",
        "from azure.ai.ml.entities import Model                    # Model\n",
        "from azure.ai.ml import command                           # Job/command\n",
        "from azure.ai.ml import Input                             # Data input\n",
        "from azure.ai.ml.entities import ManagedOnlineEndpoint    # Manage endpoint \n",
        "from azure.ai.ml.entities import ManagedOnlineDeployment  # Manage endpoint\n",
        "import uuid                                               # Create UUID\n",
        "import os                                                 # System"
      ],
      "outputs": [],
      "execution_count": 1,
      "metadata": {
        "gather": {
          "logged": 1683684317091
        }
      }
    },
    {
      "cell_type": "markdown",
      "source": [
        "# Connect to AzureML workspace"
      ],
      "metadata": {
        "nteract": {
          "transient": {
            "deleting": false
          }
        }
      }
    },
    {
      "cell_type": "code",
      "source": [
        "# Authenticate\n",
        "credential = DefaultAzureCredential()                     # default credential\n",
        "# credential = InteractiveBrowserCredential()             # browser input credential\n",
        "\n",
        "# Get a handle to the workspace\n",
        "ml_client = MLClient(\n",
        "    credential=credential,\n",
        "    subscription_id=\"9e456110-c6ac-44a7-81cf-5b26a6935c02\",\n",
        "    resource_group_name=\"data-science-ml\",\n",
        "    workspace_name=\"big-data-science-workspace\",\n",
        ")"
      ],
      "outputs": [],
      "execution_count": 2,
      "metadata": {
        "jupyter": {
          "source_hidden": false,
          "outputs_hidden": false
        },
        "nteract": {
          "transient": {
            "deleting": false
          }
        },
        "gather": {
          "logged": 1683684317536
        }
      }
    },
    {
      "cell_type": "markdown",
      "source": [
        "# Create compute cluster"
      ],
      "metadata": {
        "nteract": {
          "transient": {
            "deleting": false
          }
        }
      }
    },
    {
      "cell_type": "code",
      "source": [
        "# Name assigned to the compute cluster\n",
        "cpu_compute_target = \"starbucks-cluster\"\n",
        "\n",
        "try:\n",
        "    # let's see if the compute target already exists\n",
        "    cpu_cluster = ml_client.compute.get(cpu_compute_target)\n",
        "    print(\n",
        "        f\"You already have a cluster named {cpu_compute_target}, we'll reuse it as is.\"\n",
        "    )\n",
        "\n",
        "except Exception:\n",
        "    print(\"Creating a new cpu compute target...\")\n",
        "\n",
        "    # Let's create the Azure ML compute object with the intended parameters\n",
        "    cpu_cluster = AmlCompute(\n",
        "        name = cpu_compute_target,    \n",
        "        type = \"amlcompute\",                  # Azure ML Compute is the on-demand VM service\n",
        "        size = \"STANDARD_DS11_V2\",            # VM Family\n",
        "        min_instances = 0,                    # Minimum running nodes when there is no job running\n",
        "        max_instances = 1,                    # Nodes in cluster\n",
        "        idle_time_before_scale_down = 90,     # How many seconds will the node running after the job termination\n",
        "        tier=\"Dedicated\",                     # Dedicated or LowPriority. The latter is cheaper but there is a chance of job termination\n",
        "    )\n",
        "    \n",
        "    print(f\"AMLCompute with name {cpu_cluster.name} will be created, with compute size {cpu_cluster.size}\")\n",
        "    \n",
        "    # Now, we pass the object to MLClient's create_or_update method\n",
        "    cpu_cluster = ml_client.compute.begin_create_or_update(cpu_cluster)"
      ],
      "outputs": [
        {
          "output_type": "stream",
          "name": "stdout",
          "text": "Creating a new cpu compute target...\nAMLCompute with name starbucks-cluster will be created, with compute size STANDARD_DS11_V2\n"
        }
      ],
      "execution_count": 3,
      "metadata": {
        "jupyter": {
          "source_hidden": false,
          "outputs_hidden": false
        },
        "nteract": {
          "transient": {
            "deleting": false
          }
        },
        "gather": {
          "logged": 1683684318752
        }
      }
    },
    {
      "cell_type": "markdown",
      "source": [
        "# Create environment file"
      ],
      "metadata": {
        "nteract": {
          "transient": {
            "deleting": false
          }
        }
      }
    },
    {
      "cell_type": "code",
      "source": [
        "# Create a new directory for environment file\n",
        "dependencies_dir = \"./dependencies\"\n",
        "os.makedirs(dependencies_dir, exist_ok=True)"
      ],
      "outputs": [],
      "execution_count": 4,
      "metadata": {
        "jupyter": {
          "source_hidden": false,
          "outputs_hidden": false
        },
        "nteract": {
          "transient": {
            "deleting": false
          }
        },
        "gather": {
          "logged": 1683684319209
        }
      }
    },
    {
      "cell_type": "code",
      "source": [
        "%%writefile {dependencies_dir}/conda.yml\n",
        "name: model-env\n",
        "channels:\n",
        "  - conda-forge\n",
        "dependencies:\n",
        "  - python=3.8\n",
        "  - numpy=1.21.2\n",
        "  - pip=21.2.4\n",
        "  - scikit-learn=0.24.2\n",
        "  - scipy=1.7.1\n",
        "  - pandas>=1.1,<1.2\n",
        "  - pip:\n",
        "    - inference-schema[numpy-support]==1.3.0\n",
        "    - xlrd==2.0.1\n",
        "    - mlflow== 1.26.1\n",
        "    - azureml-mlflow==1.42.0\n",
        "    - psutil>=5.8,<5.9\n",
        "    - tqdm>=4.59,<4.60\n",
        "    - ipykernel~=6.0\n",
        "    - matplotlib"
      ],
      "outputs": [
        {
          "output_type": "stream",
          "name": "stdout",
          "text": "Overwriting ./dependencies/conda.yml\n"
        }
      ],
      "execution_count": 5,
      "metadata": {
        "jupyter": {
          "source_hidden": false,
          "outputs_hidden": false
        },
        "nteract": {
          "transient": {
            "deleting": false
          }
        }
      }
    },
    {
      "cell_type": "markdown",
      "source": [
        "# Create custom environment"
      ],
      "metadata": {
        "nteract": {
          "transient": {
            "deleting": false
          }
        }
      }
    },
    {
      "cell_type": "code",
      "source": [
        "# Create custom environment\n",
        "custom_env_name = \"aml-starbucks-ml\"\n",
        "\n",
        "pipeline_job_env = Environment(\n",
        "    name=custom_env_name,\n",
        "    description=\"Custom environment for Starbucks ML\",\n",
        "    tags={\"scikit-learn\": \"0.24.2\"},\n",
        "    conda_file=os.path.join(dependencies_dir, \"conda.yml\"),\n",
        "    image=\"mcr.microsoft.com/azureml/openmpi3.1.2-ubuntu18.04:latest\",\n",
        ")\n",
        "\n",
        "pipeline_job_env = ml_client.environments.create_or_update(pipeline_job_env)\n",
        "print(f\"Environment with name {pipeline_job_env.name} is registered to workspace, the environment version is {pipeline_job_env.version}\")"
      ],
      "outputs": [
        {
          "output_type": "stream",
          "name": "stdout",
          "text": "Environment with name aml-starbucks-ml is registered to workspace, the environment version is 2\n"
        }
      ],
      "execution_count": 6,
      "metadata": {
        "jupyter": {
          "source_hidden": false,
          "outputs_hidden": false
        },
        "nteract": {
          "transient": {
            "deleting": false
          }
        },
        "gather": {
          "logged": 1683684327143
        }
      }
    },
    {
      "cell_type": "markdown",
      "source": [
        "# Configure job"
      ],
      "metadata": {
        "nteract": {
          "transient": {
            "deleting": false
          }
        }
      }
    },
    {
      "cell_type": "code",
      "source": [
        "# Configure job\n",
        "registered_model_name = \"starbucks_bogo_model\"\n",
        "\n",
        "job = command(\n",
        "    inputs=dict(\n",
        "        data=Input(\n",
        "            type=\"uri_file\",\n",
        "            path=\"https://learningac.blob.core.windows.net/learningcontainer/df_trans_cust_bogo_succ_rate.csv\",\n",
        "        ),\n",
        "        test_train_ratio=0.2,\n",
        "        learning_rate=0.25,\n",
        "        registered_model_name=registered_model_name,\n",
        "    ),\n",
        "    code=\"./src\",  # location of source code\n",
        "    command=\"python starbucks_ml_script.py --data ${{inputs.data}} --registered_model_name ${{inputs.registered_model_name}}\",\n",
        "    environment=\"aml-starbucks-ml@latest\",\n",
        "    compute=\"starbucks-cluster\",\n",
        "    experiment_name=\"starbucks_bogo_success_prediction\",\n",
        "    display_name=\"starbucks_bogo_success_prediction\"\n",
        ")"
      ],
      "outputs": [],
      "execution_count": 15,
      "metadata": {
        "jupyter": {
          "source_hidden": false,
          "outputs_hidden": false
        },
        "nteract": {
          "transient": {
            "deleting": false
          }
        },
        "gather": {
          "logged": 1683687055872
        }
      }
    },
    {
      "cell_type": "markdown",
      "source": [
        "# Submit job"
      ],
      "metadata": {
        "nteract": {
          "transient": {
            "deleting": false
          }
        }
      }
    },
    {
      "cell_type": "code",
      "source": [
        "# Submit job\n",
        "ml_client.create_or_update(job)"
      ],
      "outputs": [
        {
          "output_type": "stream",
          "name": "stderr",
          "text": "\u001b[32mUploading src (0.0 MBs): 100%|██████████| 2606/2606 [00:00<00:00, 37215.04it/s]\n\u001b[39m\n\n"
        },
        {
          "output_type": "execute_result",
          "execution_count": 16,
          "data": {
            "text/plain": "Command({'parameters': {}, 'init': False, 'type': 'command', 'status': 'Starting', 'log_files': None, 'name': 'frank_tooth_hm5bbm1kf9', 'description': None, 'tags': {}, 'properties': {'_azureml.ComputeTargetType': 'amlctrain', 'ContentSnapshotId': '11120e5e-7145-4618-aa77-c49eac1eb98f'}, 'print_as_yaml': True, 'id': '/subscriptions/9e456110-c6ac-44a7-81cf-5b26a6935c02/resourceGroups/data-science-ml/providers/Microsoft.MachineLearningServices/workspaces/big-data-science-workspace/jobs/frank_tooth_hm5bbm1kf9', 'Resource__source_path': None, 'base_path': '/mnt/batch/tasks/shared/LS_root/mounts/clusters/notebook-ci-ds11/code/Users/shuv.sdr', 'creation_context': <azure.ai.ml.entities._system_data.SystemData object at 0x7f55b565dcf0>, 'serialize': <msrest.serialization.Serializer object at 0x7f55b565dc60>, 'allowed_keys': {}, 'key_restriction': False, 'logger': <Logger attr_dict (WARNING)>, 'display_name': 'starbucks_bogo_success_prediction', 'experiment_name': 'starbucks_bogo_success_prediction', 'compute': 'starbucks-cluster', 'services': {'Tracking': <azure.ai.ml.entities._job.job_service.JobService object at 0x7f55dc236d40>, 'Studio': <azure.ai.ml.entities._job.job_service.JobService object at 0x7f55dc21f490>}, 'comment': None, 'job_inputs': {'data': {'type': 'uri_file', 'path': 'https://learningac.blob.core.windows.net/learningcontainer/df_trans_cust_bogo_succ_rate.csv', 'mode': 'ro_mount'}, 'test_train_ratio': '0.2', 'learning_rate': '0.25', 'registered_model_name': 'starbucks_bogo_model'}, 'job_outputs': {'default': {'type': 'uri_folder', 'path': 'azureml://datastores/workspaceartifactstore/ExperimentRun/dcid.frank_tooth_hm5bbm1kf9', 'mode': 'rw_mount'}}, 'inputs': {'data': <azure.ai.ml.entities._job.pipeline._io.base.NodeInput object at 0x7f55b565ebc0>, 'test_train_ratio': <azure.ai.ml.entities._job.pipeline._io.base.NodeInput object at 0x7f55b565e860>, 'learning_rate': <azure.ai.ml.entities._job.pipeline._io.base.NodeInput object at 0x7f55b565e650>, 'registered_model_name': <azure.ai.ml.entities._job.pipeline._io.base.NodeInput object at 0x7f55b565e500>}, 'outputs': {'default': <azure.ai.ml.entities._job.pipeline._io.base.NodeOutput object at 0x7f55b565d9f0>}, 'component': CommandComponent({'auto_increment_version': True, 'source': 'REMOTE.WORKSPACE.JOB', 'is_anonymous': False, 'name': 'frank_tooth_hm5bbm1kf9', 'description': None, 'tags': {}, 'properties': {}, 'print_as_yaml': True, 'id': None, 'Resource__source_path': None, 'base_path': PosixPath('.'), 'creation_context': <azure.ai.ml.entities._system_data.SystemData object at 0x7f55b565dcf0>, 'serialize': <msrest.serialization.Serializer object at 0x7f55b565f700>, 'command': 'python starbucks_ml_script.py --data ${{inputs.data}} --registered_model_name ${{inputs.registered_model_name}}', 'code': '/subscriptions/9e456110-c6ac-44a7-81cf-5b26a6935c02/resourceGroups/data-science-ml/providers/Microsoft.MachineLearningServices/workspaces/big-data-science-workspace/codes/1c42cfa1-b369-47f6-a9eb-128562e212a3/versions/1', 'environment_variables': {}, 'environment': '/subscriptions/9e456110-c6ac-44a7-81cf-5b26a6935c02/resourceGroups/data-science-ml/providers/Microsoft.MachineLearningServices/workspaces/big-data-science-workspace/environments/aml-starbucks-ml/versions/2', 'distribution': None, 'resources': None, 'queue_settings': None, 'version': None, 'latest_version': None, 'schema': None, 'type': 'command', 'display_name': 'starbucks_bogo_success_prediction', 'is_deterministic': True, 'inputs': {'data': {'type': 'uri_file', 'path': 'https://learningac.blob.core.windows.net/learningcontainer/df_trans_cust_bogo_succ_rate.csv', 'mode': 'ro_mount'}, 'test_train_ratio': {'type': 'string', 'default': '0.2'}, 'learning_rate': {'type': 'string', 'default': '0.25'}, 'registered_model_name': {'type': 'string', 'default': 'starbucks_bogo_model'}}, 'outputs': {'default': {'type': 'uri_folder', 'path': 'azureml://datastores/workspaceartifactstore/ExperimentRun/dcid.frank_tooth_hm5bbm1kf9', 'mode': 'rw_mount'}}, 'yaml_str': None, 'other_parameter': {'status': 'Starting', 'parameters': {}}}), 'referenced_control_flow_node_instance_id': None, 'kwargs': {'services': {'Tracking': <azure.ai.ml.entities._job.job_service.JobService object at 0x7f55dc236d40>, 'Studio': <azure.ai.ml.entities._job.job_service.JobService object at 0x7f55dc21f490>}, 'status': 'Starting', 'creation_context': <azure.ai.ml.entities._system_data.SystemData object at 0x7f55b565dcf0>}, 'instance_id': 'db01b580-97ae-4f9c-9c22-ba632590a525', 'source': 'BUILDER', 'validate_required_input_not_provided': True, 'limits': None, 'identity': None, 'distribution': None, 'environment_variables': {}, 'environment': 'aml-starbucks-ml:2', 'resources': {'instance_count': 1, 'shm_size': '2g'}, 'queue_settings': None, 'swept': False})",
            "text/html": "<table style=\"width:100%\"><tr><th>Experiment</th><th>Name</th><th>Type</th><th>Status</th><th>Details Page</th></tr><tr><td>starbucks_bogo_success_prediction</td><td>frank_tooth_hm5bbm1kf9</td><td>command</td><td>Starting</td><td><a href=\"https://ml.azure.com/runs/frank_tooth_hm5bbm1kf9?wsid=/subscriptions/9e456110-c6ac-44a7-81cf-5b26a6935c02/resourcegroups/data-science-ml/workspaces/big-data-science-workspace&amp;tid=42d29027-01ba-42da-9580-f549aec1da12\" target=\"_blank\" rel=\"noopener\">Link to Azure Machine Learning studio</a></td></tr></table>"
          },
          "metadata": {}
        }
      ],
      "execution_count": 16,
      "metadata": {
        "jupyter": {
          "source_hidden": false,
          "outputs_hidden": false
        },
        "nteract": {
          "transient": {
            "deleting": false
          }
        },
        "gather": {
          "logged": 1683687062432
        }
      }
    },
    {
      "cell_type": "code",
      "source": [],
      "outputs": [],
      "execution_count": null,
      "metadata": {
        "jupyter": {
          "source_hidden": false,
          "outputs_hidden": false
        },
        "nteract": {
          "transient": {
            "deleting": false
          }
        }
      }
    }
  ],
  "metadata": {
    "kernelspec": {
      "name": "python310-sdkv2",
      "language": "python",
      "display_name": "Python 3.10 - SDK v2"
    },
    "language_info": {
      "name": "python",
      "version": "3.10.10",
      "mimetype": "text/x-python",
      "codemirror_mode": {
        "name": "ipython",
        "version": 3
      },
      "pygments_lexer": "ipython3",
      "nbconvert_exporter": "python",
      "file_extension": ".py"
    },
    "microsoft": {
      "ms_spell_check": {
        "ms_spell_check_language": "en"
      },
      "host": {
        "AzureML": {
          "notebookHasBeenCompleted": true
        }
      }
    },
    "nteract": {
      "version": "nteract-front-end@1.0.0"
    },
    "kernel_info": {
      "name": "python310-sdkv2"
    }
  },
  "nbformat": 4,
  "nbformat_minor": 2
}